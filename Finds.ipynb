{
  "nbformat": 4,
  "nbformat_minor": 0,
  "metadata": {
    "colab": {
      "provenance": [],
      "authorship_tag": "ABX9TyPCfSq4wjHfA+gkJfAZPGre",
      "include_colab_link": true
    },
    "kernelspec": {
      "name": "python3",
      "display_name": "Python 3"
    },
    "language_info": {
      "name": "python"
    }
  },
  "cells": [
    {
      "cell_type": "markdown",
      "metadata": {
        "id": "view-in-github",
        "colab_type": "text"
      },
      "source": [
        "<a href=\"https://colab.research.google.com/github/2022cidarshan/Ml2lab/blob/main/Finds.ipynb\" target=\"_parent\"><img src=\"https://colab.research.google.com/assets/colab-badge.svg\" alt=\"Open In Colab\"/></a>"
      ]
    },
    {
      "cell_type": "code",
      "execution_count": 1,
      "metadata": {
        "colab": {
          "base_uri": "https://localhost:8080/"
        },
        "id": "SD_GcBV3OOAA",
        "outputId": "0a891fd0-931e-4843-8cd5-55e10c7c6554"
      },
      "outputs": [
        {
          "output_type": "stream",
          "name": "stdout",
          "text": [
            "Hypothesis: ['Sunny', 'Warm', '?', 'Strong', '?', '?']\n"
          ]
        }
      ],
      "source": [
        "def find_s(dataset):\n",
        "    hypothesis = dataset[0][: -1]\n",
        "    for example in dataset:\n",
        "        if example[-1] == \"Yes\":\n",
        "            for i in range(len(hypothesis)):\n",
        "                if example[i] != hypothesis[i]:\n",
        "                    hypothesis[i] = \"?\"\n",
        "    return hypothesis\n",
        "\n",
        "dataset = [\n",
        "    ['Sunny', 'Warm', 'Normal', 'Strong', 'Warm', 'Same', 'Yes'],\n",
        "    ['Sunny', 'Warm', 'High', 'Strong', 'Warm', 'Same', 'Yes'],\n",
        "    ['Rainy', 'Warm', 'High', 'Strong', 'Warm', 'Change', 'No'],\n",
        "    ['Sunny', 'Warm', 'High', 'Strong', 'Cool', 'Change', 'Yes'],\n",
        "    ['Rainy', 'Cold', 'High', 'Strong', 'warm', 'Change', 'No']\n",
        "]\n",
        "\n",
        "hypothesis = find_s(dataset)\n",
        "print(\"Hypothesis:\", hypothesis)"
      ]
    }
  ]
}